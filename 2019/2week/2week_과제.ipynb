{
 "cells": [
  {
   "cell_type": "markdown",
   "metadata": {},
   "source": [
    "## 과제 01.\n",
    "\n",
    "1. 1-n까지의 수를 더하는 변수 sum을 선언한다.\n",
    "2. 반복문 실행시 sum(합)변수에 값을 더해줄 i 변수를 선언한다.\n",
    "3. 반복문이 계속 실행되면서 10000이 넘을때까지 계속 값을 더한다.\n",
    "4. 합이 10000이 넘으면 마지막으로 더해진 값을 빼고 break문으로 반복문을 종료한다. "
   ]
  },
  {
   "cell_type": "code",
   "execution_count": 1,
   "metadata": {},
   "outputs": [
    {
     "name": "stdout",
     "output_type": "stream",
     "text": [
      "1부터 n까지의 합 중에서 10000을 넘지 않는 가장 큰 합은 : 9870\n",
      "그때의 n 값은 : 141\n"
     ]
    }
   ],
   "source": [
    "i=0\n",
    "sum=0\n",
    "while(True):\n",
    "    i=i+1\n",
    "    sum+=i\n",
    "    if sum>10000:\n",
    "        sum-=i\n",
    "        break\n",
    "print(\"1부터 n까지의 합 중에서 10000을 넘지 않는 가장 큰 합은 :\",sum)\n",
    "print(\"그때의 n 값은 :\",i)"
   ]
  },
  {
   "cell_type": "markdown",
   "metadata": {},
   "source": [
    "## 과제 02.\n",
    "\n",
    "1. 역삼각형을 만들기 위해 사용자가 원하는 줄의 인자를 입력한다.\n",
    "2. 입력받은 인자만큼 반복문을 실행한다.\n",
    "3. 위와 같이 반복문이 실행되며 * 이 역으로 찍힌다.\n",
    "4. 반복문이 종료될 때까지 실행하다가 종료된다."
   ]
  },
  {
   "cell_type": "code",
   "execution_count": 2,
   "metadata": {},
   "outputs": [
    {
     "name": "stdout",
     "output_type": "stream",
     "text": [
      "몇 줄의 삼각형을 만드시겠습니까? :5\n",
      "*****\n",
      "****\n",
      "***\n",
      "**\n",
      "*\n"
     ]
    }
   ],
   "source": [
    "num=int(input(\"몇 줄의 삼각형을 만드시겠습니까? :\"))\n",
    "\n",
    "def triangle(num):\n",
    "    for i in range(1,num+1):\n",
    "        for j in range(num+1-i):\n",
    "            print(\"*\",end=\"\")\n",
    "        print()\n",
    "triangle(num)"
   ]
  },
  {
   "cell_type": "markdown",
   "metadata": {},
   "source": [
    "## 과제 03.\n",
    "\n",
    "1. 반복문을 통해 10개의 정수를 사용자로부터 입력받는다.\n",
    "2. 입력 받은 정수의 최대값과 최소값을 return한다."
   ]
  },
  {
   "cell_type": "code",
   "execution_count": 70,
   "metadata": {},
   "outputs": [
    {
     "name": "stdout",
     "output_type": "stream",
     "text": [
      "1번째 정수를 입력하세요 : 1\n",
      "2번째 정수를 입력하세요 : 2\n",
      "3번째 정수를 입력하세요 : 3\n",
      "4번째 정수를 입력하세요 : 4\n",
      "5번째 정수를 입력하세요 : 5\n",
      "6번째 정수를 입력하세요 : 6\n",
      "7번째 정수를 입력하세요 : 7\n",
      "8번째 정수를 입력하세요 : 8\n",
      "9번째 정수를 입력하세요 : 9\n",
      "10번째 정수를 입력하세요 : 10\n",
      "최대값,최소값 : (10, 1)\n"
     ]
    }
   ],
   "source": [
    "def max_min():\n",
    "    list=[]\n",
    "    for i in range(10):\n",
    "        num=int(input(str(i+1)+\"번째 정수를 입력하세요 : \"))\n",
    "        list.append(num)\n",
    "    return max(list),min(list)\n",
    "j=max_min()\n",
    "\n",
    "print(\"최대값,최소값 :\",j)"
   ]
  },
  {
   "cell_type": "markdown",
   "metadata": {},
   "source": [
    "## 과제 04.\n",
    "\n",
    "1. 함수 안에 단어 개수를 세줄 count 변수를 선언한다.\n",
    "2. for문을 활용해 len함수로 단어의 길이를 센다.\n",
    "3. 조건에 해당하는 경우 count를 1씩 증가시킨다.\n",
    "4. 마지막으로 글자수가 8자 이하인 단어의 개수를 출력한다."
   ]
  },
  {
   "cell_type": "code",
   "execution_count": 21,
   "metadata": {},
   "outputs": [
    {
     "name": "stdout",
     "output_type": "stream",
     "text": [
      "3\n"
     ]
    }
   ],
   "source": [
    "def words(word):\n",
    "    count=0\n",
    "    for i in word:\n",
    "        if(len(i)<=8):\n",
    "            count+=1\n",
    "    return count\n",
    "print(words(['abcde','aa','hello','asdasdsdad','kkkkkkkkkk']))            "
   ]
  },
  {
   "cell_type": "markdown",
   "metadata": {},
   "source": [
    "## 과제 05.\n",
    "\n",
    "1. Makelist()\n",
    " - list에 0-9까지의 숫자를 랜덤으로 선택해 리스트를 만들고 return 해준다.\n",
    "2. savefile()\n",
    " - pickle을 사용해 리스트를 파일로 저장한다.\n",
    "3. loadfile()\n",
    " - 파일에 저장된 리스트를 return하고 오류 발생시 예외처리를 통해 오류메시지를 출력한다.\n",
    "4. print_dvalue()\n",
    " - countList에 0으로 list를 만들어준다.\n",
    " - for문을 통해 리스트를 전체 출력한다.\n",
    " - enumerate로 리스트를 받아 인덱스 값을 포함해준뒤 각 숫자의 중복 개수를 출력한다."
   ]
  },
  {
   "cell_type": "code",
   "execution_count": 32,
   "metadata": {},
   "outputs": [
    {
     "name": "stdout",
     "output_type": "stream",
     "text": [
      "[9, 0, 9, 3, 7, 2, 2, 1, 0, 7, 1, 3, 4, 2, 3, 7, 7, 4, 1, 3, 1, 6, 6, 5, 7, 0, 1, 5, 1, 0]\n",
      "0  :  4\n",
      "1  :  6\n",
      "2  :  3\n",
      "3  :  4\n",
      "4  :  2\n",
      "5  :  2\n",
      "6  :  2\n",
      "7  :  5\n",
      "8  :  0\n",
      "9  :  2\n"
     ]
    }
   ],
   "source": [
    "import random\n",
    "import pickle\n",
    "import os\n",
    "\n",
    "random.seed(20190903)\n",
    "def makelist():\n",
    "    list=[]\n",
    "    for i in range(30):\n",
    "        list.append(random.randint(0,9))\n",
    "    return list\n",
    "    \n",
    "def savefile(filepath,MLdatalist):\n",
    "    f=open(\"pickle.pkl\",\"wb\")\n",
    "    pickle.dump(list,f)\n",
    "    f.close()\n",
    "    \n",
    "def loadfile(filepath):\n",
    "    try:\n",
    "        f=open(\"pickle.pkl\",\"rb\")\n",
    "        data=pickle.load(f)\n",
    "    except FileNotFoundError as e:\n",
    "        print(e)\n",
    "    return data\n",
    "\n",
    "def print_dvalue(MLdatalist):\n",
    "    countList = [0 for i in range(10)]\n",
    "    \n",
    "    for com in MLdatalist:\n",
    "        countList[com] += 1\n",
    "    print(MLdatalist)\n",
    "    \n",
    "    for i, cnt in enumerate(countList):\n",
    "        print(i, \" : \", cnt)\n",
    "        \n",
    "if __name__ == \"__main__\":\n",
    "    file_path=os.getcwd()+\"/ML-data.pkl\"\n",
    "    MLdatalist=makelist()\n",
    "    savefile(file_path,MLdatalist)\n",
    "    \n",
    "    del MLdatalist\n",
    "    MLdatalist=loadfile(file_path)\n",
    "    print_dvalue(makelist())"
   ]
  }
 ],
 "metadata": {
  "kernelspec": {
   "display_name": "Python 3",
   "language": "python",
   "name": "python3"
  },
  "language_info": {
   "codemirror_mode": {
    "name": "ipython",
    "version": 3
   },
   "file_extension": ".py",
   "mimetype": "text/x-python",
   "name": "python",
   "nbconvert_exporter": "python",
   "pygments_lexer": "ipython3",
   "version": "3.6.5"
  }
 },
 "nbformat": 4,
 "nbformat_minor": 2
}
