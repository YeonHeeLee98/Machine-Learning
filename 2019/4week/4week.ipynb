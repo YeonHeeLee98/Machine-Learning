{
 "cells": [
  {
   "cell_type": "code",
   "execution_count": 3,
   "metadata": {},
   "outputs": [],
   "source": [
    "import numpy as np"
   ]
  },
  {
   "cell_type": "markdown",
   "metadata": {},
   "source": [
    "##### array를 선언후 arr 타입을 반환"
   ]
  },
  {
   "cell_type": "code",
   "execution_count": 4,
   "metadata": {},
   "outputs": [
    {
     "name": "stdout",
     "output_type": "stream",
     "text": [
      "arr type :  <class 'numpy.ndarray'>\n",
      "arr shape :  (2,)\n",
      "arr :  [1 2]\n",
      "arr data type :  int32\n"
     ]
    }
   ],
   "source": [
    "arr=np.array([1,2]) #[1,2]의 넘파이 array를 선언\n",
    "print(\"arr type : \",type(arr)) # arr 타입 반환\n",
    "print(\"arr shape : \",arr.shape) # arr 형태 반환\n",
    "print(\"arr : \",arr) # arr 반환\n",
    "print(\"arr data type : \",arr.dtype) # 데이터 타입 반환"
   ]
  },
  {
   "cell_type": "code",
   "execution_count": 5,
   "metadata": {},
   "outputs": [
    {
     "name": "stdout",
     "output_type": "stream",
     "text": [
      "<class 'numpy.ndarray'>\n",
      "arr2 shape :  (3, 3)\n",
      "arr2 size :  9\n",
      "arr2 : \n",
      " [[1 2 3]\n",
      " [4 5 6]\n",
      " [7 8 9]]\n",
      "arr2 num of dimension :  2\n",
      "arr data type :  int32\n"
     ]
    }
   ],
   "source": [
    "arr2=np.array([[1,2,3],[4,5,6],[7,8,9]])#[1,2,3],[4,5,6],[7,8,9]를 arr2에 array로 선언\n",
    "print(type(arr2)) \n",
    "print(\"arr2 shape : \",arr2.shape) # arr2 모양 반환\n",
    "print(\"arr2 size : \",arr2.size) # arr2 크기 반환\n",
    "print(\"arr2 : \\n\",arr2) # arr2값 출력\n",
    "print(\"arr2 num of dimension : \",arr2.ndim) #차원반환\n",
    "print(\"arr data type : \",arr2.dtype) #데이터 타입 반환"
   ]
  },
  {
   "cell_type": "code",
   "execution_count": 6,
   "metadata": {},
   "outputs": [
    {
     "name": "stdout",
     "output_type": "stream",
     "text": [
      "[[0. 0. 0. 0.]\n",
      " [0. 0. 0. 0.]\n",
      " [0. 0. 0. 0.]]\n"
     ]
    }
   ],
   "source": [
    "print(np.zeros((3,4))) #(3,4) 형태에 0으로 채워진 값을 출력"
   ]
  },
  {
   "cell_type": "code",
   "execution_count": 7,
   "metadata": {},
   "outputs": [
    {
     "name": "stdout",
     "output_type": "stream",
     "text": [
      "[[1. 1. 1.]\n",
      " [1. 1. 1.]]\n"
     ]
    }
   ],
   "source": [
    "print(np.ones((2,3))) #(2,3) 형태에 1로 초기화된 값을 출력"
   ]
  },
  {
   "cell_type": "code",
   "execution_count": 8,
   "metadata": {
    "scrolled": true
   },
   "outputs": [
    {
     "name": "stdout",
     "output_type": "stream",
     "text": [
      "[[3 3 3]\n",
      " [3 3 3]]\n"
     ]
    }
   ],
   "source": [
    "print(np.full((2,3),3)) #(4,5) 형태에 3으로 채워진 값을 출력"
   ]
  },
  {
   "cell_type": "code",
   "execution_count": 9,
   "metadata": {},
   "outputs": [
    {
     "name": "stdout",
     "output_type": "stream",
     "text": [
      "[[0.34783015 0.5830387 ]\n",
      " [0.91886668 0.31323853]]\n"
     ]
    }
   ],
   "source": [
    "print(np.random.random((2,2))) #(2,2) 형태의 랜덤한 실수값을 출력"
   ]
  },
  {
   "cell_type": "markdown",
   "metadata": {},
   "source": [
    "## linspace, arange의 차이\n",
    "\n",
    "- linspace : 선형 구간 혹은 로그 구간을 지정한 구간의 수만큼 분할\n",
    "- arange : NumPy 버전의 range 명령이라고 볼 수 있음. 특정한 규칙에 따라 증가하는 수열을 만듦"
   ]
  },
  {
   "cell_type": "code",
   "execution_count": 10,
   "metadata": {},
   "outputs": [
    {
     "name": "stdout",
     "output_type": "stream",
     "text": [
      "[0 1 2 3 4 5 6 7 8 9]\n",
      "[10 15 20 25]\n",
      "[0.  0.3 0.6 0.9 1.2 1.5 1.8]\n"
     ]
    }
   ],
   "source": [
    "print(np.arange(0,10))\n",
    "print(np.arange(10,30,5)) # (시작,끝(포함하지 않음),단계)\n",
    "print(np.arange(0,2,0.3))\n"
   ]
  },
  {
   "cell_type": "code",
   "execution_count": 11,
   "metadata": {},
   "outputs": [
    {
     "name": "stdout",
     "output_type": "stream",
     "text": [
      "[0.   0.25 0.5  0.75 1.   1.25 1.5  1.75 2.  ]\n"
     ]
    }
   ],
   "source": [
    "print(np.linspace(0,2,9)) # (시작,끝(포함),갯수)"
   ]
  },
  {
   "cell_type": "code",
   "execution_count": 12,
   "metadata": {},
   "outputs": [
    {
     "name": "stdout",
     "output_type": "stream",
     "text": [
      "origin :  [ 0  1  2  3  4  5  6  7  8  9 10 11]\n",
      "reshaped : \n",
      " [[ 0  1  2]\n",
      " [ 3  4  5]\n",
      " [ 6  7  8]\n",
      " [ 9 10 11]]\n"
     ]
    }
   ],
   "source": [
    "#12개가 들어있는 배열에 reshape을 이용해 4*3의 배열로 바꿈\n",
    "\n",
    "print(\"origin : \",np.arange(0,12)) \n",
    "print(\"reshaped : \\n\",np.arange(0,12).reshape(4,3))"
   ]
  },
  {
   "cell_type": "code",
   "execution_count": 13,
   "metadata": {},
   "outputs": [
    {
     "name": "stdout",
     "output_type": "stream",
     "text": [
      "[[   0    1    2 ...   97   98   99]\n",
      " [ 100  101  102 ...  197  198  199]\n",
      " [ 200  201  202 ...  297  298  299]\n",
      " ...\n",
      " [9700 9701 9702 ... 9797 9798 9799]\n",
      " [9800 9801 9802 ... 9897 9898 9899]\n",
      " [9900 9901 9902 ... 9997 9998 9999]]\n"
     ]
    }
   ],
   "source": [
    "print(np.arange(10000).reshape(100,100))"
   ]
  },
  {
   "cell_type": "markdown",
   "metadata": {},
   "source": [
    "## 브로드캐스팅\n",
    "- 브로드캐스팅: 모양이 다른 배열들 간의 연산이 어떤 조건을 만족했을 때 가능해지도록 배열을 자동적으로 변환하는 것\n",
    "\n",
    "## list, array 차이\n",
    "- list : 데이터 크기가 정해져 있지 않고 삽입,삭제가 많이 일어나며 검색이 적은 경우 좋음\n",
    "- array : 데이터 크기가 정해져있고 추가적인 삽입, 삭제가 일어나지 않고 검색이 많은 경우 좋음"
   ]
  },
  {
   "cell_type": "code",
   "execution_count": 14,
   "metadata": {},
   "outputs": [
    {
     "name": "stdout",
     "output_type": "stream",
     "text": [
      "[20, 30, 40, 50, 5, 6, 7, 5]\n",
      "[20, 30, 40, 50, 20, 30, 40, 50]\n"
     ]
    }
   ],
   "source": [
    "# 리스트끼리 합해지고 *2 경우에는 리스트 전체가 *2가 됨\n",
    "\n",
    "list_a=[20,30,40,50] \n",
    "list_b=[5,6,7,5] \n",
    "print(list_a+list_b)\n",
    "print(list_a*2)"
   ]
  },
  {
   "cell_type": "code",
   "execution_count": 15,
   "metadata": {},
   "outputs": [
    {
     "name": "stdout",
     "output_type": "stream",
     "text": [
      "[25 36 47 55]\n",
      "[15 24 33 45]\n",
      "[ 400  900 1600 2500]\n",
      "[100 180 280 250]\n",
      "[ 4.          5.          5.71428571 10.        ]\n"
     ]
    }
   ],
   "source": [
    "# 각 리스트 원소별로 계산이 됨\n",
    "# ex)리스트 안 숫자 각각에 *2가 됨\n",
    "\n",
    "a=np.array([20,30,40,50])\n",
    "b=np.array([5,6,7,5])\n",
    "\n",
    "print(a+b)\n",
    "print(a-b)\n",
    "print(a**2)\n",
    "print(a*b)\n",
    "print(a/b)"
   ]
  },
  {
   "cell_type": "code",
   "execution_count": 16,
   "metadata": {},
   "outputs": [
    {
     "name": "stdout",
     "output_type": "stream",
     "text": [
      "mul :  [[ 2  2]\n",
      " [ 1 12]]\n",
      "dot :  [[ 3  6]\n",
      " [ 5 14]]\n",
      "@ :  [[ 3  6]\n",
      " [ 5 14]]\n"
     ]
    }
   ],
   "source": [
    "A=np.array([[1,1],\n",
    "          [1,3]])\n",
    "\n",
    "B=np.array([[2,2],\n",
    "           [1,4]])\n",
    "# 행렬의 곱 \n",
    "print(\"mul : \",A*B)\n",
    "# 행렬의 내적\n",
    "print(\"dot : \",np.dot(A,B)) \n",
    "print(\"@ : \",A@B)\n"
   ]
  },
  {
   "cell_type": "code",
   "execution_count": 17,
   "metadata": {},
   "outputs": [
    {
     "name": "stdout",
     "output_type": "stream",
     "text": [
      "axis=0 sum :  [12 15 18 21]\n",
      "axis=0 max :  [ 8  9 10 11]\n",
      "axis=1 min :  [0 4 8]\n"
     ]
    }
   ],
   "source": [
    "#axis는 numpy 행렬 계산에 쓰임 \n",
    "#리스트의 합 출력, 최대값 최소값 출력 \n",
    "\n",
    "a=np.arange(12).reshape(3,4)\n",
    "\n",
    "print(\"axis=0 sum : \",a.sum(axis=0))\n",
    "print(\"axis=0 max : \",a.max(axis=0))\n",
    "print(\"axis=1 min : \",a.min(axis=1))"
   ]
  },
  {
   "cell_type": "code",
   "execution_count": 18,
   "metadata": {},
   "outputs": [
    {
     "name": "stdout",
     "output_type": "stream",
     "text": [
      "b :  [8 4 2 7 1 2 3 4]\n",
      "index [2] :  2\n",
      "slice [2:5] :  [2 7 1]\n",
      "reverse :  [4 3 2 1 7 2 4 8]\n"
     ]
    }
   ],
   "source": [
    "#numpy도 슬라이싱이랑 인덱싱 기능을 똑같이 씀\n",
    "\n",
    "b=np.array([8,4,2,7,1,2,3,4])\n",
    "# array의 원소를 인덱싱\n",
    "print(\"b : \",b)\n",
    "print(\"index [2] : \",b[2])\n",
    "print(\"slice [2:5] : \",b[2:5])\n",
    "\n",
    "print(\"reverse : \",b[::-1]) # ::-1 -> 가장 끝의 원소부터 역순으로 출력"
   ]
  },
  {
   "cell_type": "markdown",
   "metadata": {},
   "source": [
    "### 시리즈 구조 = 인덱스와 값으로 이루어짐 [index : value]\n",
    "### 데이터를 시리즈형태로 만들어 value는 값만 출력 index는 index만 출력"
   ]
  },
  {
   "cell_type": "code",
   "execution_count": 20,
   "metadata": {},
   "outputs": [],
   "source": [
    "import numpy as np\n",
    "import pandas as pd"
   ]
  },
  {
   "cell_type": "code",
   "execution_count": 21,
   "metadata": {},
   "outputs": [
    {
     "name": "stdout",
     "output_type": "stream",
     "text": [
      "0    1.0\n",
      "1    2.0\n",
      "2    3.0\n",
      "3    NaN\n",
      "4    4.0\n",
      "5    5.0\n",
      "dtype: float64\n"
     ]
    }
   ],
   "source": [
    "data=[1,2,3,np.nan,4,5]\n",
    "s1=pd.Series(data) # data의 값을 Series에 넣어줌\n",
    "print(s1)"
   ]
  },
  {
   "cell_type": "code",
   "execution_count": 22,
   "metadata": {},
   "outputs": [
    {
     "name": "stdout",
     "output_type": "stream",
     "text": [
      "value :  [ 1.  2.  3. nan  4.  5.]\n",
      "index :  RangeIndex(start=0, stop=6, step=1)\n"
     ]
    }
   ],
   "source": [
    "# value는 값만 출력 index는 index만 출력\n",
    "# s1에 저장된 값과 인덱스 출력\n",
    "\n",
    "print(\"value : \",s1.values)\n",
    "print(\"index : \",s1.index)"
   ]
  },
  {
   "cell_type": "code",
   "execution_count": 23,
   "metadata": {},
   "outputs": [
    {
     "name": "stdout",
     "output_type": "stream",
     "text": [
      "one      2\n",
      "two      4\n",
      "three    5\n",
      "four     6\n",
      "dtype: int64\n"
     ]
    }
   ],
   "source": [
    "# [index : value] 형태로 출력\n",
    "\n",
    "data=[2,4,5,6]\n",
    "index=['one','two','three','four']\n",
    "\n",
    "s2=pd.Series(data,index=index)\n",
    "print(s2)"
   ]
  },
  {
   "cell_type": "code",
   "execution_count": 24,
   "metadata": {},
   "outputs": [
    {
     "name": "stdout",
     "output_type": "stream",
     "text": [
      "one       2\n",
      "two      10\n",
      "three     5\n",
      "four      6\n",
      "dtype: int64\n"
     ]
    }
   ],
   "source": [
    "# 'two' 인덱스를 10으로 변경\n",
    "\n",
    "s2['two']=10\n",
    "print(s2)"
   ]
  },
  {
   "cell_type": "code",
   "execution_count": 25,
   "metadata": {},
   "outputs": [
    {
     "name": "stdout",
     "output_type": "stream",
     "text": [
      "first      2\n",
      "second    10\n",
      "third      5\n",
      "forth      6\n",
      "dtype: int64\n"
     ]
    }
   ],
   "source": [
    "# index 값을 변경해줌\n",
    "\n",
    "s2.index=['first','second','third','forth']\n",
    "print(s2)"
   ]
  },
  {
   "cell_type": "code",
   "execution_count": 26,
   "metadata": {},
   "outputs": [
    {
     "name": "stdout",
     "output_type": "stream",
     "text": [
      "one      10000\n",
      "two      20000\n",
      "three    30000\n",
      "four     40000\n",
      "dtype: int64\n"
     ]
    }
   ],
   "source": [
    "# 딕셔너리 자료형으로 키값과 벨류의 형태로 Series에 저장됨\n",
    "\n",
    "dic={'one':10000,'two':20000,'three':30000,'four':40000}\n",
    "s3=pd.Series(dic)\n",
    "print(s3)"
   ]
  },
  {
   "cell_type": "code",
   "execution_count": 27,
   "metadata": {},
   "outputs": [
    {
     "name": "stdout",
     "output_type": "stream",
     "text": [
      "    name      dates   flag  num    s\n",
      "0  jeong 2019-09-07   test    0  man\n",
      "1    kim 2019-09-08  train    1  man\n",
      "2    lee 2019-09-09   test    2  man\n"
     ]
    }
   ],
   "source": [
    "#엑셀의 표형태/ 행과열로 이루어짐\n",
    "df=pd.DataFrame({\n",
    "    'name' :['jeong','kim','lee'],\n",
    "    'dates' :pd.date_range('20190907',periods=3),\n",
    "    'flag' :pd.Categorical(['test','train','test']),\n",
    "    'num' :np.arange(3),\n",
    "    's' :'man'\n",
    "})\n",
    "\n",
    "print(df)"
   ]
  },
  {
   "cell_type": "code",
   "execution_count": 28,
   "metadata": {},
   "outputs": [
    {
     "name": "stdout",
     "output_type": "stream",
     "text": [
      "name             object\n",
      "dates    datetime64[ns]\n",
      "flag           category\n",
      "num               int32\n",
      "s                object\n",
      "dtype: object\n"
     ]
    }
   ],
   "source": [
    "# 각 열의 데이터 타입 출력\n",
    "\n",
    "print(df.dtypes)"
   ]
  },
  {
   "cell_type": "code",
   "execution_count": 29,
   "metadata": {},
   "outputs": [
    {
     "name": "stdout",
     "output_type": "stream",
     "text": [
      "RangeIndex(start=0, stop=3, step=1)\n",
      "Index(['name', 'dates', 'flag', 'num', 's'], dtype='object')\n",
      "[['jeong' Timestamp('2019-09-07 00:00:00') 'test' 0 'man']\n",
      " ['kim' Timestamp('2019-09-08 00:00:00') 'train' 1 'man']\n",
      " ['lee' Timestamp('2019-09-09 00:00:00') 'test' 2 'man']]\n"
     ]
    }
   ],
   "source": [
    "# index, columns, value 형태로 출력\n",
    "\n",
    "print(df.index) #인덱스 출력\n",
    "print(df.columns) #열의 값을 출력\n",
    "print(df.values) #각 행의 원소 출력"
   ]
  },
  {
   "cell_type": "code",
   "execution_count": 30,
   "metadata": {},
   "outputs": [],
   "source": [
    "np.random.seed(20190911)\n",
    "datas=np.floor(np.random.randn(12,5)*10) # random한 값의 12,5 모양의 행렬을 가짐\n",
    "dates=pd.date_range('20190911',periods=12) # 날짜를 출력\n",
    "columns=list('ABCDE') # 각 리스트에 'ABCDE'로 들어감\n",
    "\n",
    "df=pd.DataFrame(datas,index=dates,columns=columns)"
   ]
  },
  {
   "cell_type": "code",
   "execution_count": 32,
   "metadata": {},
   "outputs": [
    {
     "data": {
      "text/html": [
       "<div>\n",
       "<style scoped>\n",
       "    .dataframe tbody tr th:only-of-type {\n",
       "        vertical-align: middle;\n",
       "    }\n",
       "\n",
       "    .dataframe tbody tr th {\n",
       "        vertical-align: top;\n",
       "    }\n",
       "\n",
       "    .dataframe thead th {\n",
       "        text-align: right;\n",
       "    }\n",
       "</style>\n",
       "<table border=\"1\" class=\"dataframe\">\n",
       "  <thead>\n",
       "    <tr style=\"text-align: right;\">\n",
       "      <th></th>\n",
       "      <th>A</th>\n",
       "      <th>B</th>\n",
       "      <th>C</th>\n",
       "      <th>D</th>\n",
       "      <th>E</th>\n",
       "    </tr>\n",
       "  </thead>\n",
       "  <tbody>\n",
       "    <tr>\n",
       "      <th>count</th>\n",
       "      <td>12.000000</td>\n",
       "      <td>12.000000</td>\n",
       "      <td>12.000000</td>\n",
       "      <td>12.000000</td>\n",
       "      <td>12.000000</td>\n",
       "    </tr>\n",
       "    <tr>\n",
       "      <th>mean</th>\n",
       "      <td>-1.916667</td>\n",
       "      <td>-2.583333</td>\n",
       "      <td>1.083333</td>\n",
       "      <td>1.000000</td>\n",
       "      <td>3.416667</td>\n",
       "    </tr>\n",
       "    <tr>\n",
       "      <th>std</th>\n",
       "      <td>11.704376</td>\n",
       "      <td>9.558036</td>\n",
       "      <td>13.865971</td>\n",
       "      <td>10.153369</td>\n",
       "      <td>9.443211</td>\n",
       "    </tr>\n",
       "    <tr>\n",
       "      <th>min</th>\n",
       "      <td>-21.000000</td>\n",
       "      <td>-17.000000</td>\n",
       "      <td>-15.000000</td>\n",
       "      <td>-16.000000</td>\n",
       "      <td>-10.000000</td>\n",
       "    </tr>\n",
       "    <tr>\n",
       "      <th>25%</th>\n",
       "      <td>-10.000000</td>\n",
       "      <td>-7.500000</td>\n",
       "      <td>-9.250000</td>\n",
       "      <td>-5.250000</td>\n",
       "      <td>-3.500000</td>\n",
       "    </tr>\n",
       "    <tr>\n",
       "      <th>50%</th>\n",
       "      <td>-1.000000</td>\n",
       "      <td>-3.500000</td>\n",
       "      <td>-2.500000</td>\n",
       "      <td>-1.000000</td>\n",
       "      <td>2.500000</td>\n",
       "    </tr>\n",
       "    <tr>\n",
       "      <th>75%</th>\n",
       "      <td>4.250000</td>\n",
       "      <td>5.000000</td>\n",
       "      <td>5.500000</td>\n",
       "      <td>8.000000</td>\n",
       "      <td>9.000000</td>\n",
       "    </tr>\n",
       "    <tr>\n",
       "      <th>max</th>\n",
       "      <td>19.000000</td>\n",
       "      <td>12.000000</td>\n",
       "      <td>26.000000</td>\n",
       "      <td>19.000000</td>\n",
       "      <td>21.000000</td>\n",
       "    </tr>\n",
       "  </tbody>\n",
       "</table>\n",
       "</div>"
      ],
      "text/plain": [
       "               A          B          C          D          E\n",
       "count  12.000000  12.000000  12.000000  12.000000  12.000000\n",
       "mean   -1.916667  -2.583333   1.083333   1.000000   3.416667\n",
       "std    11.704376   9.558036  13.865971  10.153369   9.443211\n",
       "min   -21.000000 -17.000000 -15.000000 -16.000000 -10.000000\n",
       "25%   -10.000000  -7.500000  -9.250000  -5.250000  -3.500000\n",
       "50%    -1.000000  -3.500000  -2.500000  -1.000000   2.500000\n",
       "75%     4.250000   5.000000   5.500000   8.000000   9.000000\n",
       "max    19.000000  12.000000  26.000000  19.000000  21.000000"
      ]
     },
     "execution_count": 32,
     "metadata": {},
     "output_type": "execute_result"
    }
   ],
   "source": [
    "# 한 번에 요약된 통계 결과를 반환\n",
    "\n",
    "df.describe()"
   ]
  },
  {
   "cell_type": "code",
   "execution_count": 33,
   "metadata": {},
   "outputs": [
    {
     "data": {
      "text/html": [
       "<div>\n",
       "<style scoped>\n",
       "    .dataframe tbody tr th:only-of-type {\n",
       "        vertical-align: middle;\n",
       "    }\n",
       "\n",
       "    .dataframe tbody tr th {\n",
       "        vertical-align: top;\n",
       "    }\n",
       "\n",
       "    .dataframe thead th {\n",
       "        text-align: right;\n",
       "    }\n",
       "</style>\n",
       "<table border=\"1\" class=\"dataframe\">\n",
       "  <thead>\n",
       "    <tr style=\"text-align: right;\">\n",
       "      <th></th>\n",
       "      <th>2019-09-11 00:00:00</th>\n",
       "      <th>2019-09-12 00:00:00</th>\n",
       "      <th>2019-09-13 00:00:00</th>\n",
       "      <th>2019-09-14 00:00:00</th>\n",
       "      <th>2019-09-15 00:00:00</th>\n",
       "      <th>2019-09-16 00:00:00</th>\n",
       "      <th>2019-09-17 00:00:00</th>\n",
       "      <th>2019-09-18 00:00:00</th>\n",
       "      <th>2019-09-19 00:00:00</th>\n",
       "      <th>2019-09-20 00:00:00</th>\n",
       "      <th>2019-09-21 00:00:00</th>\n",
       "      <th>2019-09-22 00:00:00</th>\n",
       "    </tr>\n",
       "  </thead>\n",
       "  <tbody>\n",
       "    <tr>\n",
       "      <th>A</th>\n",
       "      <td>2.0</td>\n",
       "      <td>-4.0</td>\n",
       "      <td>-14.0</td>\n",
       "      <td>-13.0</td>\n",
       "      <td>-21.0</td>\n",
       "      <td>5.0</td>\n",
       "      <td>3.0</td>\n",
       "      <td>13.0</td>\n",
       "      <td>19.0</td>\n",
       "      <td>-8.0</td>\n",
       "      <td>-9.0</td>\n",
       "      <td>4.0</td>\n",
       "    </tr>\n",
       "    <tr>\n",
       "      <th>B</th>\n",
       "      <td>-9.0</td>\n",
       "      <td>12.0</td>\n",
       "      <td>5.0</td>\n",
       "      <td>-17.0</td>\n",
       "      <td>-4.0</td>\n",
       "      <td>-1.0</td>\n",
       "      <td>-6.0</td>\n",
       "      <td>5.0</td>\n",
       "      <td>-17.0</td>\n",
       "      <td>11.0</td>\n",
       "      <td>-3.0</td>\n",
       "      <td>-7.0</td>\n",
       "    </tr>\n",
       "    <tr>\n",
       "      <th>C</th>\n",
       "      <td>2.0</td>\n",
       "      <td>-9.0</td>\n",
       "      <td>-2.0</td>\n",
       "      <td>24.0</td>\n",
       "      <td>-13.0</td>\n",
       "      <td>-5.0</td>\n",
       "      <td>2.0</td>\n",
       "      <td>-10.0</td>\n",
       "      <td>16.0</td>\n",
       "      <td>26.0</td>\n",
       "      <td>-15.0</td>\n",
       "      <td>-3.0</td>\n",
       "    </tr>\n",
       "    <tr>\n",
       "      <th>D</th>\n",
       "      <td>19.0</td>\n",
       "      <td>8.0</td>\n",
       "      <td>16.0</td>\n",
       "      <td>-8.0</td>\n",
       "      <td>1.0</td>\n",
       "      <td>-5.0</td>\n",
       "      <td>1.0</td>\n",
       "      <td>8.0</td>\n",
       "      <td>-3.0</td>\n",
       "      <td>-3.0</td>\n",
       "      <td>-6.0</td>\n",
       "      <td>-16.0</td>\n",
       "    </tr>\n",
       "    <tr>\n",
       "      <th>E</th>\n",
       "      <td>12.0</td>\n",
       "      <td>15.0</td>\n",
       "      <td>-3.0</td>\n",
       "      <td>-5.0</td>\n",
       "      <td>6.0</td>\n",
       "      <td>21.0</td>\n",
       "      <td>-6.0</td>\n",
       "      <td>6.0</td>\n",
       "      <td>-10.0</td>\n",
       "      <td>-2.0</td>\n",
       "      <td>-1.0</td>\n",
       "      <td>8.0</td>\n",
       "    </tr>\n",
       "  </tbody>\n",
       "</table>\n",
       "</div>"
      ],
      "text/plain": [
       "   2019-09-11  2019-09-12  2019-09-13  2019-09-14  2019-09-15  2019-09-16  \\\n",
       "A         2.0        -4.0       -14.0       -13.0       -21.0         5.0   \n",
       "B        -9.0        12.0         5.0       -17.0        -4.0        -1.0   \n",
       "C         2.0        -9.0        -2.0        24.0       -13.0        -5.0   \n",
       "D        19.0         8.0        16.0        -8.0         1.0        -5.0   \n",
       "E        12.0        15.0        -3.0        -5.0         6.0        21.0   \n",
       "\n",
       "   2019-09-17  2019-09-18  2019-09-19  2019-09-20  2019-09-21  2019-09-22  \n",
       "A         3.0        13.0        19.0        -8.0        -9.0         4.0  \n",
       "B        -6.0         5.0       -17.0        11.0        -3.0        -7.0  \n",
       "C         2.0       -10.0        16.0        26.0       -15.0        -3.0  \n",
       "D         1.0         8.0        -3.0        -3.0        -6.0       -16.0  \n",
       "E        -6.0         6.0       -10.0        -2.0        -1.0         8.0  "
      ]
     },
     "execution_count": 33,
     "metadata": {},
     "output_type": "execute_result"
    }
   ],
   "source": [
    "# 열이랑 행을 바꿔줌 (전치)\n",
    "df.T"
   ]
  },
  {
   "cell_type": "code",
   "execution_count": 34,
   "metadata": {},
   "outputs": [
    {
     "name": "stdout",
     "output_type": "stream",
     "text": [
      "2019-09-11     2.0\n",
      "2019-09-12    -4.0\n",
      "2019-09-13   -14.0\n",
      "2019-09-14   -13.0\n",
      "2019-09-15   -21.0\n",
      "2019-09-16     5.0\n",
      "2019-09-17     3.0\n",
      "2019-09-18    13.0\n",
      "2019-09-19    19.0\n",
      "2019-09-20    -8.0\n",
      "2019-09-21    -9.0\n",
      "2019-09-22     4.0\n",
      "Freq: D, Name: A, dtype: float64\n",
      "2019-09-11     2.0\n",
      "2019-09-12    -4.0\n",
      "2019-09-13   -14.0\n",
      "2019-09-14   -13.0\n",
      "2019-09-15   -21.0\n",
      "2019-09-16     5.0\n",
      "2019-09-17     3.0\n",
      "2019-09-18    13.0\n",
      "2019-09-19    19.0\n",
      "2019-09-20    -8.0\n",
      "2019-09-21    -9.0\n",
      "2019-09-22     4.0\n",
      "Freq: D, Name: A, dtype: float64\n"
     ]
    }
   ],
   "source": [
    "# A의 값을 출력\n",
    "\n",
    "print(df['A'])\n",
    "print(df.A)"
   ]
  },
  {
   "cell_type": "markdown",
   "metadata": {},
   "source": [
    "### loc, iloc의 차이\n",
    "\n",
    "- loc\t: 인덱스 기준으로 행 데이터 읽기\n",
    "- iloc : 행 번호를 기준으로 행 데이터 읽기"
   ]
  },
  {
   "cell_type": "code",
   "execution_count": 35,
   "metadata": {},
   "outputs": [
    {
     "data": {
      "text/plain": [
       "A     2.0\n",
       "B    -9.0\n",
       "C     2.0\n",
       "D    19.0\n",
       "E    12.0\n",
       "Name: 2019-09-11 00:00:00, dtype: float64"
      ]
     },
     "execution_count": 35,
     "metadata": {},
     "output_type": "execute_result"
    }
   ],
   "source": [
    "#[0]번째 인덱스를 기준으로 행 데이터를 가져옴\n",
    "\n",
    "df.loc[dates[0]]"
   ]
  },
  {
   "cell_type": "code",
   "execution_count": 36,
   "metadata": {},
   "outputs": [
    {
     "data": {
      "text/html": [
       "<div>\n",
       "<style scoped>\n",
       "    .dataframe tbody tr th:only-of-type {\n",
       "        vertical-align: middle;\n",
       "    }\n",
       "\n",
       "    .dataframe tbody tr th {\n",
       "        vertical-align: top;\n",
       "    }\n",
       "\n",
       "    .dataframe thead th {\n",
       "        text-align: right;\n",
       "    }\n",
       "</style>\n",
       "<table border=\"1\" class=\"dataframe\">\n",
       "  <thead>\n",
       "    <tr style=\"text-align: right;\">\n",
       "      <th></th>\n",
       "      <th>A</th>\n",
       "      <th>B</th>\n",
       "    </tr>\n",
       "  </thead>\n",
       "  <tbody>\n",
       "    <tr>\n",
       "      <th>2019-09-11</th>\n",
       "      <td>2.0</td>\n",
       "      <td>-9.0</td>\n",
       "    </tr>\n",
       "    <tr>\n",
       "      <th>2019-09-12</th>\n",
       "      <td>-4.0</td>\n",
       "      <td>12.0</td>\n",
       "    </tr>\n",
       "    <tr>\n",
       "      <th>2019-09-13</th>\n",
       "      <td>-14.0</td>\n",
       "      <td>5.0</td>\n",
       "    </tr>\n",
       "    <tr>\n",
       "      <th>2019-09-14</th>\n",
       "      <td>-13.0</td>\n",
       "      <td>-17.0</td>\n",
       "    </tr>\n",
       "    <tr>\n",
       "      <th>2019-09-15</th>\n",
       "      <td>-21.0</td>\n",
       "      <td>-4.0</td>\n",
       "    </tr>\n",
       "    <tr>\n",
       "      <th>2019-09-16</th>\n",
       "      <td>5.0</td>\n",
       "      <td>-1.0</td>\n",
       "    </tr>\n",
       "    <tr>\n",
       "      <th>2019-09-17</th>\n",
       "      <td>3.0</td>\n",
       "      <td>-6.0</td>\n",
       "    </tr>\n",
       "    <tr>\n",
       "      <th>2019-09-18</th>\n",
       "      <td>13.0</td>\n",
       "      <td>5.0</td>\n",
       "    </tr>\n",
       "    <tr>\n",
       "      <th>2019-09-19</th>\n",
       "      <td>19.0</td>\n",
       "      <td>-17.0</td>\n",
       "    </tr>\n",
       "    <tr>\n",
       "      <th>2019-09-20</th>\n",
       "      <td>-8.0</td>\n",
       "      <td>11.0</td>\n",
       "    </tr>\n",
       "    <tr>\n",
       "      <th>2019-09-21</th>\n",
       "      <td>-9.0</td>\n",
       "      <td>-3.0</td>\n",
       "    </tr>\n",
       "    <tr>\n",
       "      <th>2019-09-22</th>\n",
       "      <td>4.0</td>\n",
       "      <td>-7.0</td>\n",
       "    </tr>\n",
       "  </tbody>\n",
       "</table>\n",
       "</div>"
      ],
      "text/plain": [
       "               A     B\n",
       "2019-09-11   2.0  -9.0\n",
       "2019-09-12  -4.0  12.0\n",
       "2019-09-13 -14.0   5.0\n",
       "2019-09-14 -13.0 -17.0\n",
       "2019-09-15 -21.0  -4.0\n",
       "2019-09-16   5.0  -1.0\n",
       "2019-09-17   3.0  -6.0\n",
       "2019-09-18  13.0   5.0\n",
       "2019-09-19  19.0 -17.0\n",
       "2019-09-20  -8.0  11.0\n",
       "2019-09-21  -9.0  -3.0\n",
       "2019-09-22   4.0  -7.0"
      ]
     },
     "execution_count": 36,
     "metadata": {},
     "output_type": "execute_result"
    }
   ],
   "source": [
    "# A,B의 행데이터를 가져옴\n",
    "\n",
    "df.loc[:,['A','B']]"
   ]
  },
  {
   "cell_type": "code",
   "execution_count": 37,
   "metadata": {},
   "outputs": [
    {
     "data": {
      "text/plain": [
       "A    2.0\n",
       "B   -9.0\n",
       "Name: 2019-09-11 00:00:00, dtype: float64"
      ]
     },
     "execution_count": 37,
     "metadata": {},
     "output_type": "execute_result"
    }
   ],
   "source": [
    "# A,B의 [0]번째 인덱스를 기준으로 행 데이터를 가져옴\n",
    "\n",
    "df.loc[dates[0],['A','B']]"
   ]
  },
  {
   "cell_type": "code",
   "execution_count": 38,
   "metadata": {},
   "outputs": [
    {
     "data": {
      "text/plain": [
       "2.0"
      ]
     },
     "execution_count": 38,
     "metadata": {},
     "output_type": "execute_result"
    }
   ],
   "source": [
    "# A의 [0]인덱스의 첫번째 값만 가져옴\n",
    "\n",
    "df.at[dates[0],'A']"
   ]
  },
  {
   "cell_type": "code",
   "execution_count": 39,
   "metadata": {},
   "outputs": [
    {
     "data": {
      "text/html": [
       "<div>\n",
       "<style scoped>\n",
       "    .dataframe tbody tr th:only-of-type {\n",
       "        vertical-align: middle;\n",
       "    }\n",
       "\n",
       "    .dataframe tbody tr th {\n",
       "        vertical-align: top;\n",
       "    }\n",
       "\n",
       "    .dataframe thead th {\n",
       "        text-align: right;\n",
       "    }\n",
       "</style>\n",
       "<table border=\"1\" class=\"dataframe\">\n",
       "  <thead>\n",
       "    <tr style=\"text-align: right;\">\n",
       "      <th></th>\n",
       "      <th>A</th>\n",
       "      <th>B</th>\n",
       "    </tr>\n",
       "  </thead>\n",
       "  <tbody>\n",
       "    <tr>\n",
       "      <th>2019-09-11</th>\n",
       "      <td>2.0</td>\n",
       "      <td>-9.0</td>\n",
       "    </tr>\n",
       "    <tr>\n",
       "      <th>2019-09-12</th>\n",
       "      <td>-4.0</td>\n",
       "      <td>12.0</td>\n",
       "    </tr>\n",
       "    <tr>\n",
       "      <th>2019-09-13</th>\n",
       "      <td>-14.0</td>\n",
       "      <td>5.0</td>\n",
       "    </tr>\n",
       "    <tr>\n",
       "      <th>2019-09-14</th>\n",
       "      <td>-13.0</td>\n",
       "      <td>-17.0</td>\n",
       "    </tr>\n",
       "  </tbody>\n",
       "</table>\n",
       "</div>"
      ],
      "text/plain": [
       "               A     B\n",
       "2019-09-11   2.0  -9.0\n",
       "2019-09-12  -4.0  12.0\n",
       "2019-09-13 -14.0   5.0\n",
       "2019-09-14 -13.0 -17.0"
      ]
     },
     "execution_count": 39,
     "metadata": {},
     "output_type": "execute_result"
    }
   ],
   "source": [
    "# 행번호를 기준으로 가져옴\n",
    "\n",
    "df.iloc[0:4,0:2]"
   ]
  },
  {
   "cell_type": "code",
   "execution_count": 40,
   "metadata": {},
   "outputs": [
    {
     "data": {
      "text/plain": [
       "-9.0"
      ]
     },
     "execution_count": 40,
     "metadata": {},
     "output_type": "execute_result"
    }
   ],
   "source": [
    "# 첫번째 행의 값을 가져옴\n",
    "\n",
    "df.iloc[1,2]"
   ]
  },
  {
   "cell_type": "code",
   "execution_count": 41,
   "metadata": {},
   "outputs": [
    {
     "data": {
      "text/html": [
       "<div>\n",
       "<style scoped>\n",
       "    .dataframe tbody tr th:only-of-type {\n",
       "        vertical-align: middle;\n",
       "    }\n",
       "\n",
       "    .dataframe tbody tr th {\n",
       "        vertical-align: top;\n",
       "    }\n",
       "\n",
       "    .dataframe thead th {\n",
       "        text-align: right;\n",
       "    }\n",
       "</style>\n",
       "<table border=\"1\" class=\"dataframe\">\n",
       "  <thead>\n",
       "    <tr style=\"text-align: right;\">\n",
       "      <th></th>\n",
       "      <th>C</th>\n",
       "      <th>E</th>\n",
       "    </tr>\n",
       "  </thead>\n",
       "  <tbody>\n",
       "    <tr>\n",
       "      <th>2019-09-11</th>\n",
       "      <td>2.0</td>\n",
       "      <td>12.0</td>\n",
       "    </tr>\n",
       "    <tr>\n",
       "      <th>2019-09-13</th>\n",
       "      <td>-2.0</td>\n",
       "      <td>-3.0</td>\n",
       "    </tr>\n",
       "  </tbody>\n",
       "</table>\n",
       "</div>"
      ],
      "text/plain": [
       "              C     E\n",
       "2019-09-11  2.0  12.0\n",
       "2019-09-13 -2.0  -3.0"
      ]
     },
     "execution_count": 41,
     "metadata": {},
     "output_type": "execute_result"
    }
   ],
   "source": [
    "# 0번쨰, 2번째 행에서 2번째 4번째 값을 가져옴\n",
    "\n",
    "df.iloc[[0,2],[2,4]]"
   ]
  },
  {
   "cell_type": "code",
   "execution_count": 42,
   "metadata": {},
   "outputs": [
    {
     "data": {
      "text/plain": [
       "-2.0"
      ]
     },
     "execution_count": 42,
     "metadata": {},
     "output_type": "execute_result"
    }
   ],
   "source": [
    "# 2번째 행의 2번째 인덱스 값을 가져옴\n",
    "\n",
    "df.iat[2,2]"
   ]
  },
  {
   "cell_type": "code",
   "execution_count": 70,
   "metadata": {},
   "outputs": [
    {
     "data": {
      "text/html": [
       "<div>\n",
       "<style scoped>\n",
       "    .dataframe tbody tr th:only-of-type {\n",
       "        vertical-align: middle;\n",
       "    }\n",
       "\n",
       "    .dataframe tbody tr th {\n",
       "        vertical-align: top;\n",
       "    }\n",
       "\n",
       "    .dataframe thead th {\n",
       "        text-align: right;\n",
       "    }\n",
       "</style>\n",
       "<table border=\"1\" class=\"dataframe\">\n",
       "  <thead>\n",
       "    <tr style=\"text-align: right;\">\n",
       "      <th></th>\n",
       "      <th>A</th>\n",
       "      <th>B</th>\n",
       "      <th>C</th>\n",
       "      <th>D</th>\n",
       "      <th>E</th>\n",
       "    </tr>\n",
       "  </thead>\n",
       "  <tbody>\n",
       "    <tr>\n",
       "      <th>2019-09-11</th>\n",
       "      <td>2.0</td>\n",
       "      <td>-9.0</td>\n",
       "      <td>2.0</td>\n",
       "      <td>19.0</td>\n",
       "      <td>12.0</td>\n",
       "    </tr>\n",
       "    <tr>\n",
       "      <th>2019-09-16</th>\n",
       "      <td>5.0</td>\n",
       "      <td>-1.0</td>\n",
       "      <td>-5.0</td>\n",
       "      <td>-5.0</td>\n",
       "      <td>21.0</td>\n",
       "    </tr>\n",
       "    <tr>\n",
       "      <th>2019-09-17</th>\n",
       "      <td>3.0</td>\n",
       "      <td>-6.0</td>\n",
       "      <td>2.0</td>\n",
       "      <td>1.0</td>\n",
       "      <td>-6.0</td>\n",
       "    </tr>\n",
       "    <tr>\n",
       "      <th>2019-09-18</th>\n",
       "      <td>13.0</td>\n",
       "      <td>5.0</td>\n",
       "      <td>-10.0</td>\n",
       "      <td>8.0</td>\n",
       "      <td>6.0</td>\n",
       "    </tr>\n",
       "    <tr>\n",
       "      <th>2019-09-19</th>\n",
       "      <td>19.0</td>\n",
       "      <td>-17.0</td>\n",
       "      <td>16.0</td>\n",
       "      <td>-3.0</td>\n",
       "      <td>-10.0</td>\n",
       "    </tr>\n",
       "    <tr>\n",
       "      <th>2019-09-22</th>\n",
       "      <td>4.0</td>\n",
       "      <td>-7.0</td>\n",
       "      <td>-3.0</td>\n",
       "      <td>-16.0</td>\n",
       "      <td>8.0</td>\n",
       "    </tr>\n",
       "  </tbody>\n",
       "</table>\n",
       "</div>"
      ],
      "text/plain": [
       "               A     B     C     D     E\n",
       "2019-09-11   2.0  -9.0   2.0  19.0  12.0\n",
       "2019-09-16   5.0  -1.0  -5.0  -5.0  21.0\n",
       "2019-09-17   3.0  -6.0   2.0   1.0  -6.0\n",
       "2019-09-18  13.0   5.0 -10.0   8.0   6.0\n",
       "2019-09-19  19.0 -17.0  16.0  -3.0 -10.0\n",
       "2019-09-22   4.0  -7.0  -3.0 -16.0   8.0"
      ]
     },
     "execution_count": 70,
     "metadata": {},
     "output_type": "execute_result"
    }
   ],
   "source": [
    "# A의 0보다 큰 값만 가져옴 \n",
    "\n",
    "df[df.A>0]"
   ]
  },
  {
   "cell_type": "code",
   "execution_count": 71,
   "metadata": {},
   "outputs": [
    {
     "data": {
      "text/html": [
       "<div>\n",
       "<style scoped>\n",
       "    .dataframe tbody tr th:only-of-type {\n",
       "        vertical-align: middle;\n",
       "    }\n",
       "\n",
       "    .dataframe tbody tr th {\n",
       "        vertical-align: top;\n",
       "    }\n",
       "\n",
       "    .dataframe thead th {\n",
       "        text-align: right;\n",
       "    }\n",
       "</style>\n",
       "<table border=\"1\" class=\"dataframe\">\n",
       "  <thead>\n",
       "    <tr style=\"text-align: right;\">\n",
       "      <th></th>\n",
       "      <th>A</th>\n",
       "      <th>B</th>\n",
       "      <th>C</th>\n",
       "      <th>D</th>\n",
       "      <th>E</th>\n",
       "    </tr>\n",
       "  </thead>\n",
       "  <tbody>\n",
       "    <tr>\n",
       "      <th>2019-09-11</th>\n",
       "      <td>2.0</td>\n",
       "      <td>NaN</td>\n",
       "      <td>2.0</td>\n",
       "      <td>19.0</td>\n",
       "      <td>12.0</td>\n",
       "    </tr>\n",
       "    <tr>\n",
       "      <th>2019-09-12</th>\n",
       "      <td>NaN</td>\n",
       "      <td>12.0</td>\n",
       "      <td>NaN</td>\n",
       "      <td>8.0</td>\n",
       "      <td>15.0</td>\n",
       "    </tr>\n",
       "    <tr>\n",
       "      <th>2019-09-13</th>\n",
       "      <td>NaN</td>\n",
       "      <td>5.0</td>\n",
       "      <td>NaN</td>\n",
       "      <td>16.0</td>\n",
       "      <td>NaN</td>\n",
       "    </tr>\n",
       "    <tr>\n",
       "      <th>2019-09-14</th>\n",
       "      <td>NaN</td>\n",
       "      <td>NaN</td>\n",
       "      <td>24.0</td>\n",
       "      <td>NaN</td>\n",
       "      <td>NaN</td>\n",
       "    </tr>\n",
       "    <tr>\n",
       "      <th>2019-09-15</th>\n",
       "      <td>NaN</td>\n",
       "      <td>NaN</td>\n",
       "      <td>NaN</td>\n",
       "      <td>1.0</td>\n",
       "      <td>6.0</td>\n",
       "    </tr>\n",
       "    <tr>\n",
       "      <th>2019-09-16</th>\n",
       "      <td>5.0</td>\n",
       "      <td>NaN</td>\n",
       "      <td>NaN</td>\n",
       "      <td>NaN</td>\n",
       "      <td>21.0</td>\n",
       "    </tr>\n",
       "    <tr>\n",
       "      <th>2019-09-17</th>\n",
       "      <td>3.0</td>\n",
       "      <td>NaN</td>\n",
       "      <td>2.0</td>\n",
       "      <td>1.0</td>\n",
       "      <td>NaN</td>\n",
       "    </tr>\n",
       "    <tr>\n",
       "      <th>2019-09-18</th>\n",
       "      <td>13.0</td>\n",
       "      <td>5.0</td>\n",
       "      <td>NaN</td>\n",
       "      <td>8.0</td>\n",
       "      <td>6.0</td>\n",
       "    </tr>\n",
       "    <tr>\n",
       "      <th>2019-09-19</th>\n",
       "      <td>19.0</td>\n",
       "      <td>NaN</td>\n",
       "      <td>16.0</td>\n",
       "      <td>NaN</td>\n",
       "      <td>NaN</td>\n",
       "    </tr>\n",
       "    <tr>\n",
       "      <th>2019-09-20</th>\n",
       "      <td>NaN</td>\n",
       "      <td>11.0</td>\n",
       "      <td>26.0</td>\n",
       "      <td>NaN</td>\n",
       "      <td>NaN</td>\n",
       "    </tr>\n",
       "    <tr>\n",
       "      <th>2019-09-21</th>\n",
       "      <td>NaN</td>\n",
       "      <td>NaN</td>\n",
       "      <td>NaN</td>\n",
       "      <td>NaN</td>\n",
       "      <td>NaN</td>\n",
       "    </tr>\n",
       "    <tr>\n",
       "      <th>2019-09-22</th>\n",
       "      <td>4.0</td>\n",
       "      <td>NaN</td>\n",
       "      <td>NaN</td>\n",
       "      <td>NaN</td>\n",
       "      <td>8.0</td>\n",
       "    </tr>\n",
       "  </tbody>\n",
       "</table>\n",
       "</div>"
      ],
      "text/plain": [
       "               A     B     C     D     E\n",
       "2019-09-11   2.0   NaN   2.0  19.0  12.0\n",
       "2019-09-12   NaN  12.0   NaN   8.0  15.0\n",
       "2019-09-13   NaN   5.0   NaN  16.0   NaN\n",
       "2019-09-14   NaN   NaN  24.0   NaN   NaN\n",
       "2019-09-15   NaN   NaN   NaN   1.0   6.0\n",
       "2019-09-16   5.0   NaN   NaN   NaN  21.0\n",
       "2019-09-17   3.0   NaN   2.0   1.0   NaN\n",
       "2019-09-18  13.0   5.0   NaN   8.0   6.0\n",
       "2019-09-19  19.0   NaN  16.0   NaN   NaN\n",
       "2019-09-20   NaN  11.0  26.0   NaN   NaN\n",
       "2019-09-21   NaN   NaN   NaN   NaN   NaN\n",
       "2019-09-22   4.0   NaN   NaN   NaN   8.0"
      ]
     },
     "execution_count": 71,
     "metadata": {},
     "output_type": "execute_result"
    }
   ],
   "source": [
    "# 전체에서 0보다 큰 값만 가져옴\n",
    "\n",
    "df[df>0]"
   ]
  },
  {
   "cell_type": "code",
   "execution_count": 72,
   "metadata": {},
   "outputs": [
    {
     "data": {
      "text/html": [
       "<div>\n",
       "<style scoped>\n",
       "    .dataframe tbody tr th:only-of-type {\n",
       "        vertical-align: middle;\n",
       "    }\n",
       "\n",
       "    .dataframe tbody tr th {\n",
       "        vertical-align: top;\n",
       "    }\n",
       "\n",
       "    .dataframe thead th {\n",
       "        text-align: right;\n",
       "    }\n",
       "</style>\n",
       "<table border=\"1\" class=\"dataframe\">\n",
       "  <thead>\n",
       "    <tr style=\"text-align: right;\">\n",
       "      <th></th>\n",
       "      <th>A</th>\n",
       "      <th>B</th>\n",
       "      <th>C</th>\n",
       "      <th>D</th>\n",
       "      <th>E</th>\n",
       "    </tr>\n",
       "  </thead>\n",
       "  <tbody>\n",
       "    <tr>\n",
       "      <th>2019-09-11</th>\n",
       "      <td>2.0</td>\n",
       "      <td>0.0</td>\n",
       "      <td>2.0</td>\n",
       "      <td>19.0</td>\n",
       "      <td>12.0</td>\n",
       "    </tr>\n",
       "    <tr>\n",
       "      <th>2019-09-12</th>\n",
       "      <td>0.0</td>\n",
       "      <td>12.0</td>\n",
       "      <td>0.0</td>\n",
       "      <td>8.0</td>\n",
       "      <td>15.0</td>\n",
       "    </tr>\n",
       "    <tr>\n",
       "      <th>2019-09-13</th>\n",
       "      <td>0.0</td>\n",
       "      <td>5.0</td>\n",
       "      <td>0.0</td>\n",
       "      <td>16.0</td>\n",
       "      <td>0.0</td>\n",
       "    </tr>\n",
       "    <tr>\n",
       "      <th>2019-09-14</th>\n",
       "      <td>0.0</td>\n",
       "      <td>0.0</td>\n",
       "      <td>24.0</td>\n",
       "      <td>0.0</td>\n",
       "      <td>0.0</td>\n",
       "    </tr>\n",
       "    <tr>\n",
       "      <th>2019-09-15</th>\n",
       "      <td>0.0</td>\n",
       "      <td>0.0</td>\n",
       "      <td>0.0</td>\n",
       "      <td>1.0</td>\n",
       "      <td>6.0</td>\n",
       "    </tr>\n",
       "    <tr>\n",
       "      <th>2019-09-16</th>\n",
       "      <td>5.0</td>\n",
       "      <td>0.0</td>\n",
       "      <td>0.0</td>\n",
       "      <td>0.0</td>\n",
       "      <td>21.0</td>\n",
       "    </tr>\n",
       "    <tr>\n",
       "      <th>2019-09-17</th>\n",
       "      <td>3.0</td>\n",
       "      <td>0.0</td>\n",
       "      <td>2.0</td>\n",
       "      <td>1.0</td>\n",
       "      <td>0.0</td>\n",
       "    </tr>\n",
       "    <tr>\n",
       "      <th>2019-09-18</th>\n",
       "      <td>13.0</td>\n",
       "      <td>5.0</td>\n",
       "      <td>0.0</td>\n",
       "      <td>8.0</td>\n",
       "      <td>6.0</td>\n",
       "    </tr>\n",
       "    <tr>\n",
       "      <th>2019-09-19</th>\n",
       "      <td>19.0</td>\n",
       "      <td>0.0</td>\n",
       "      <td>16.0</td>\n",
       "      <td>0.0</td>\n",
       "      <td>0.0</td>\n",
       "    </tr>\n",
       "    <tr>\n",
       "      <th>2019-09-20</th>\n",
       "      <td>0.0</td>\n",
       "      <td>11.0</td>\n",
       "      <td>26.0</td>\n",
       "      <td>0.0</td>\n",
       "      <td>0.0</td>\n",
       "    </tr>\n",
       "    <tr>\n",
       "      <th>2019-09-21</th>\n",
       "      <td>0.0</td>\n",
       "      <td>0.0</td>\n",
       "      <td>0.0</td>\n",
       "      <td>0.0</td>\n",
       "      <td>0.0</td>\n",
       "    </tr>\n",
       "    <tr>\n",
       "      <th>2019-09-22</th>\n",
       "      <td>4.0</td>\n",
       "      <td>0.0</td>\n",
       "      <td>0.0</td>\n",
       "      <td>0.0</td>\n",
       "      <td>8.0</td>\n",
       "    </tr>\n",
       "  </tbody>\n",
       "</table>\n",
       "</div>"
      ],
      "text/plain": [
       "               A     B     C     D     E\n",
       "2019-09-11   2.0   0.0   2.0  19.0  12.0\n",
       "2019-09-12   0.0  12.0   0.0   8.0  15.0\n",
       "2019-09-13   0.0   5.0   0.0  16.0   0.0\n",
       "2019-09-14   0.0   0.0  24.0   0.0   0.0\n",
       "2019-09-15   0.0   0.0   0.0   1.0   6.0\n",
       "2019-09-16   5.0   0.0   0.0   0.0  21.0\n",
       "2019-09-17   3.0   0.0   2.0   1.0   0.0\n",
       "2019-09-18  13.0   5.0   0.0   8.0   6.0\n",
       "2019-09-19  19.0   0.0  16.0   0.0   0.0\n",
       "2019-09-20   0.0  11.0  26.0   0.0   0.0\n",
       "2019-09-21   0.0   0.0   0.0   0.0   0.0\n",
       "2019-09-22   4.0   0.0   0.0   0.0   8.0"
      ]
     },
     "execution_count": 72,
     "metadata": {},
     "output_type": "execute_result"
    }
   ],
   "source": [
    "# df를 복사해 0보다 작으면 0으로 씀\n",
    "\n",
    "df2=df.copy()\n",
    "df2[df2<0]=0\n",
    "df2"
   ]
  },
  {
   "cell_type": "code",
   "execution_count": 53,
   "metadata": {},
   "outputs": [],
   "source": [
    "# df를 각각 csv,excel 형태로 저장\n",
    "\n",
    "df.to_csv('csv_test.csv')\n",
    "df.to_excel('excel_test.xlsx',sheet_name='DataFrame')"
   ]
  },
  {
   "cell_type": "code",
   "execution_count": 54,
   "metadata": {},
   "outputs": [],
   "source": [
    "# 저장파일을 excel,csv로 연다\n",
    "csv=pd.read_csv('csv_test.csv')\n",
    "excel=pd.read_excel('excel_test.xlsx')"
   ]
  },
  {
   "cell_type": "code",
   "execution_count": 55,
   "metadata": {},
   "outputs": [
    {
     "name": "stdout",
     "output_type": "stream",
     "text": [
      "    Unnamed: 0     A     B     C     D     E\n",
      "0   2019-09-11   2.0  -9.0   2.0  19.0  12.0\n",
      "1   2019-09-12  -4.0  12.0  -9.0   8.0  15.0\n",
      "2   2019-09-13 -14.0   5.0  -2.0  16.0  -3.0\n",
      "3   2019-09-14 -13.0 -17.0  24.0  -8.0  -5.0\n",
      "4   2019-09-15 -21.0  -4.0 -13.0   1.0   6.0\n",
      "5   2019-09-16   5.0  -1.0  -5.0  -5.0  21.0\n",
      "6   2019-09-17   3.0  -6.0   2.0   1.0  -6.0\n",
      "7   2019-09-18  13.0   5.0 -10.0   8.0   6.0\n",
      "8   2019-09-19  19.0 -17.0  16.0  -3.0 -10.0\n",
      "9   2019-09-20  -8.0  11.0  26.0  -3.0  -2.0\n",
      "10  2019-09-21  -9.0  -3.0 -15.0  -6.0  -1.0\n",
      "11  2019-09-22   4.0  -7.0  -3.0 -16.0   8.0\n"
     ]
    }
   ],
   "source": [
    "# csv 파일 출력\n",
    "\n",
    "print(csv)"
   ]
  },
  {
   "cell_type": "code",
   "execution_count": 58,
   "metadata": {},
   "outputs": [
    {
     "name": "stdout",
     "output_type": "stream",
     "text": [
      "             A   B   C   D   E\n",
      "2019-09-11   2  -9   2  19  12\n",
      "2019-09-12  -4  12  -9   8  15\n",
      "2019-09-13 -14   5  -2  16  -3\n",
      "2019-09-14 -13 -17  24  -8  -5\n",
      "2019-09-15 -21  -4 -13   1   6\n",
      "2019-09-16   5  -1  -5  -5  21\n",
      "2019-09-17   3  -6   2   1  -6\n",
      "2019-09-18  13   5 -10   8   6\n",
      "2019-09-19  19 -17  16  -3 -10\n",
      "2019-09-20  -8  11  26  -3  -2\n",
      "2019-09-21  -9  -3 -15  -6  -1\n",
      "2019-09-22   4  -7  -3 -16   8\n"
     ]
    }
   ],
   "source": [
    "# 엑셀파일을 출력\n",
    "\n",
    "print(excel)"
   ]
  },
  {
   "cell_type": "code",
   "execution_count": 2,
   "metadata": {},
   "outputs": [
    {
     "data": {
      "image/png": "[encoded data removed]",
      "text/plain": [
       "<Figure size 432x288 with 1 Axes>"
      ]
     },
     "metadata": {},
     "output_type": "display_data"
    }
   ],
   "source": [
    "import numpy as np\n",
    "import matplotlib.pyplot as plt\n",
    "\n",
    "x=np.arange(0,3*np.pi,0.1) #x값은 0부터 3파이인데 0.1씩 그려줌\n",
    "y=np.sin(x)\n",
    "\n",
    "# 그래프로 sin 함수를 출력\n",
    "plt.plot(x,y)\n",
    "plt.show()"
   ]
  },
  {
   "cell_type": "code",
   "execution_count": 84,
   "metadata": {},
   "outputs": [
    {
     "data": {
      "image/png": "[encoded data removed]",
      "text/plain": [
       "<Figure size 432x288 with 1 Axes>"
      ]
     },
     "metadata": {},
     "output_type": "display_data"
    }
   ],
   "source": [
    "#그래프 두개를 겹쳐그림\n",
    "\n",
    "x=np.arange(0, 3*np.pi,0.1)\n",
    "y=np.sin(x)\n",
    "z=np.cos(x) \n",
    "# y,z는 sin, cos 함수를 출력\n",
    "plt.plot(x,y)\n",
    "plt.plot(x,z)\n",
    "plt.xlabel(\"x axis\")\n",
    "plt.xlabel(\"y axis\")\n",
    "plt.title(\"Sine and Cosine\") # 그래프이름 표현\n",
    "plt.legend([\"Sine\",\"Cosine\"]) # 그래프 의미 부여\n",
    "plt.show()"
   ]
  },
  {
   "cell_type": "markdown",
   "metadata": {},
   "source": [
    "### xtick, ytick 이란\n",
    "\n",
    "- 각 x,y 축의 값을 지정해줄 필요가 있을때 사용하는 함수"
   ]
  },
  {
   "cell_type": "code",
   "execution_count": 85,
   "metadata": {},
   "outputs": [
    {
     "data": {
      "text/plain": [
       "Text(0.5,1,'Cosine')"
      ]
     },
     "execution_count": 85,
     "metadata": {},
     "output_type": "execute_result"
    },
    {
     "data": {
      "image/png": "[encoded data removed]",
      "text/plain": [
       "<Figure size 576x576 with 2 Axes>"
      ]
     },
     "metadata": {},
     "output_type": "display_data"
    }
   ],
   "source": [
    "x=np.arange(0, 3*np.pi,0.1)\n",
    "y=np.sin(x)\n",
    "z=np.cos(x) #xtick ytick에 대해 알기\n",
    "\n",
    " \n",
    "plt.figure(figsize=(8,8))\n",
    "\n",
    "plt.subplot(2,1,1)\n",
    "plt.plot(x,y)\n",
    "plt.xticks(np.arange(0,3*np.pi,0.5))\n",
    "plt.yticks(np.arange(-1,1,0.5))\n",
    "plt.title(\"Sine\")\n",
    "\n",
    "plt.subplot(2,1,2)\n",
    "plt.plot(x,z)\n",
    "plt.xlim(0,np.pi)\n",
    "plt.ylim(-3,3)\n",
    "plt.title(\"Cosine\")\n"
   ]
  },
  {
   "cell_type": "code",
   "execution_count": null,
   "metadata": {},
   "outputs": [],
   "source": []
  }
 ],
 "metadata": {
  "kernelspec": {
   "display_name": "Python 3",
   "language": "python",
   "name": "python3"
  },
  "language_info": {
   "codemirror_mode": {
    "name": "ipython",
    "version": 3
   },
   "file_extension": ".py",
   "mimetype": "text/x-python",
   "name": "python",
   "nbconvert_exporter": "python",
   "pygments_lexer": "ipython3",
   "version": "3.6.5"
  }
 },
 "nbformat": 4,
 "nbformat_minor": 2
}
